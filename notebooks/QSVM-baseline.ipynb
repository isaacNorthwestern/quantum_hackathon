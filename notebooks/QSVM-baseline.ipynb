{
 "cells": [
  {
   "cell_type": "markdown",
   "metadata": {},
   "source": [
    "# Import libraries and packages"
   ]
  },
  {
   "cell_type": "code",
   "execution_count": 13,
   "metadata": {},
   "outputs": [
    {
     "name": "stdout",
     "output_type": "stream",
     "text": [
      "killings_with_county_dem_and_police_info.csv  QSVM-baseline.ipynb\r\n",
      "qiskit-textbook\t\t\t\t      Untitled.ipynb\r\n",
      "qiskit-tutorials\r\n"
     ]
    }
   ],
   "source": [
    "!ls"
   ]
  },
  {
   "cell_type": "code",
   "execution_count": 2,
   "metadata": {},
   "outputs": [
    {
     "name": "stderr",
     "output_type": "stream",
     "text": [
      "Matplotlib is building the font cache; this may take a moment.\n"
     ]
    }
   ],
   "source": [
    "# import qiskit library\n",
    "import qiskit\n",
    "import cvxpy # dependency needed for QSVM"
   ]
  },
  {
   "cell_type": "code",
   "execution_count": 15,
   "metadata": {},
   "outputs": [
    {
     "name": "stdout",
     "output_type": "stream",
     "text": [
      "Necessary libraries and packages are imported successfully!\n"
     ]
    }
   ],
   "source": [
    "# for plotting\n",
    "import matplotlib.pyplot as plt\n",
    "# for matrix and linear algebra\n",
    "import numpy as np\n",
    "import pandas as pd\n",
    "\n",
    "from sklearn.model_selection import train_test_split\n",
    "\n",
    "# preinstalled dataset\n",
    "from qiskit.ml.datasets import ad_hoc_data\n",
    "# basic simulator\n",
    "from qiskit import BasicAer\n",
    "# import Quantm Instance to run the experiment\n",
    "from qiskit.aqua import QuantumInstance\n",
    "# import quantum feature map\n",
    "from qiskit.circuit.library import ZZFeatureMap\n",
    "# import Quantum Support vector Machine model\n",
    "from qiskit.aqua.algorithms import QSVM\n",
    "# import several useful unitilies\n",
    "from qiskit.aqua.utils import split_dataset_to_data_and_labels, map_label_to_class_name\n",
    "#\n",
    "print(\"Necessary libraries and packages are imported successfully!\")"
   ]
  },
  {
   "cell_type": "markdown",
   "metadata": {},
   "source": [
    "# Setup parameters"
   ]
  },
  {
   "cell_type": "code",
   "execution_count": 67,
   "metadata": {},
   "outputs": [],
   "source": [
    "# feature dimension\n",
    "feature_dim = 2\n",
    "# size of the training dataset\n",
    "trainning_dataset_size = 20\n",
    "# size of the testing dataset\n",
    "testing_dataset_size = 10\n",
    "# set the seeds for the random number generator\n",
    "random_seed = 42\n",
    "# set shots/ number of iteration\n",
    "shot = 10000"
   ]
  },
  {
   "cell_type": "code",
   "execution_count": 68,
   "metadata": {},
   "outputs": [
    {
     "data": {
      "text/plain": [
       "(2546, 339)"
      ]
     },
     "execution_count": 68,
     "metadata": {},
     "output_type": "execute_result"
    }
   ],
   "source": [
    "rawdat = pd.read_csv('killings_with_county_dem_and_police_info.csv', low_memory=False)\n",
    "rawdat.shape"
   ]
  },
  {
   "cell_type": "markdown",
   "metadata": {},
   "source": [
    "# Setup data"
   ]
  },
  {
   "cell_type": "code",
   "execution_count": 100,
   "metadata": {},
   "outputs": [],
   "source": [
    "modeldat = rawdat.dropna(subset = ['calc_killed_by_police_per_10k_arrests', 'age', 'POP_ESTIMATE_2016'],how='any')\n",
    "modeldat.shape"
   ]
  },
  {
   "cell_type": "code",
   "execution_count": 103,
   "metadata": {},
   "outputs": [],
   "source": [
    "X_train, X_test, y_train, y_test = train_test_split(modeldat[['age', 'POP_ESTIMATE_2016']], \n",
    "                                                    modeldat['calc_killed_by_police_per_10k_arrests'], \n",
    "                                                    test_size=0.33, random_state=42)\n",
    "\n",
    "X_train={'dat': X_train.to_numpy()}\n",
    "X_test={'dat': X_test.to_numpy()}"
   ]
  },
  {
   "cell_type": "code",
   "execution_count": 104,
   "metadata": {},
   "outputs": [
    {
     "data": {
      "text/plain": [
       "[array([[2.10000e+01, 1.43030e+04],\n",
       "        [2.50000e+01, 1.49382e+05],\n",
       "        [2.70000e+01, 1.37280e+04],\n",
       "        ...,\n",
       "        [3.70000e+01, 3.91843e+05],\n",
       "        [2.30000e+01, 7.55640e+04],\n",
       "        [2.60000e+01, 7.48178e+05]]),\n",
       " array([0, 0, 0, ..., 0, 0, 0])]"
      ]
     },
     "execution_count": 104,
     "metadata": {},
     "output_type": "execute_result"
    }
   ],
   "source": [
    "# # set the dataset\n",
    "# sample_Total, train_input, test_input, class_labels = ad_hoc_data(training_size=trainning_dataset_size, \n",
    "#                                                                     test_size=testing_dataset_size, \n",
    "#                                                                     gap=0.3,\n",
    "#                                                                     n=feature_dim, \n",
    "#                                                                     plot_data=True)\n",
    "# \"gap\": is the assumed gap between dimention in high dimensional space\n",
    "#\n",
    "#set the data points\n",
    "datapoints, class_to_label = split_dataset_to_data_and_labels(X_train)\n",
    "datapoints"
   ]
  },
  {
   "cell_type": "code",
   "execution_count": 105,
   "metadata": {},
   "outputs": [
    {
     "data": {
      "text/plain": [
       "{'dat': array([[2.10000e+01, 1.43030e+04],\n",
       "        [2.50000e+01, 1.49382e+05],\n",
       "        [2.70000e+01, 1.37280e+04],\n",
       "        ...,\n",
       "        [3.70000e+01, 3.91843e+05],\n",
       "        [2.30000e+01, 7.55640e+04],\n",
       "        [2.60000e+01, 7.48178e+05]])}"
      ]
     },
     "execution_count": 105,
     "metadata": {},
     "output_type": "execute_result"
    }
   ],
   "source": [
    "X_train"
   ]
  },
  {
   "cell_type": "markdown",
   "metadata": {},
   "source": [
    "# Setup the backend to run the QSVM"
   ]
  },
  {
   "cell_type": "code",
   "execution_count": 107,
   "metadata": {},
   "outputs": [],
   "source": [
    "# use the qasm simulator\n",
    "backend = BasicAer.get_backend('qasm_simulator')\n",
    "# define the feature map\n",
    "\"\"\"\n",
    "Feature Map: \n",
    "    a mapping / transformation process which maps the data points from the original plane or space into a much higher dimensional space.\n",
    "    \n",
    "    Arg: \n",
    "    reps: The number of repeated circuits\n",
    "    feature_dimension: Number of features.\n",
    "\"\"\"\n",
    "feature_map = ZZFeatureMap(feature_dim, reps=2)\n",
    "# define the QSVM model\n",
    "qsvm = QSVM(feature_map, X_train, X_test, None)\n",
    "# set the random seed for this qsvm\n",
    "qsvm.random_seed = random_seed\n",
    "# setup the quantum instance to run the experiment\n",
    "quantum_instance = QuantumInstance(backend, shots=shot, seed_simulator=random_seed, seed_transpiler=random_seed)"
   ]
  },
  {
   "cell_type": "markdown",
   "metadata": {},
   "source": [
    "## This one is still running"
   ]
  },
  {
   "cell_type": "code",
   "execution_count": null,
   "metadata": {},
   "outputs": [],
   "source": [
    "# get the result from the above designed experiment on the quantum_instance\n",
    "result = qsvm.run(quantum_instance)"
   ]
  },
  {
   "cell_type": "code",
   "execution_count": 9,
   "metadata": {},
   "outputs": [
    {
     "name": "stdout",
     "output_type": "stream",
     "text": [
      "     ┌───┐┌──────────────┐                                           ┌───┐»\n",
      "q_0: ┤ H ├┤ U1(2.0*x[0]) ├──■─────────────────────────────────────■──┤ H ├»\n",
      "     ├───┤├──────────────┤┌─┴─┐┌───────────────────────────────┐┌─┴─┐├───┤»\n",
      "q_1: ┤ H ├┤ U1(2.0*x[1]) ├┤ X ├┤ U1(2.0*(π - x[0])*(π - x[1])) ├┤ X ├┤ H ├»\n",
      "     └───┘└──────────────┘└───┘└───────────────────────────────┘└───┘└───┘»\n",
      "«     ┌──────────────┐                                           \n",
      "«q_0: ┤ U1(2.0*x[0]) ├──■─────────────────────────────────────■──\n",
      "«     ├──────────────┤┌─┴─┐┌───────────────────────────────┐┌─┴─┐\n",
      "«q_1: ┤ U1(2.0*x[1]) ├┤ X ├┤ U1(2.0*(π - x[0])*(π - x[1])) ├┤ X ├\n",
      "«     └──────────────┘└───┘└───────────────────────────────┘└───┘\n"
     ]
    }
   ],
   "source": [
    "print(feature_map)"
   ]
  },
  {
   "cell_type": "markdown",
   "metadata": {},
   "source": [
    "## So, this quantum circuit maps our dataset into a much higher dimensional space."
   ]
  },
  {
   "cell_type": "markdown",
   "metadata": {},
   "source": [
    "\n",
    "\n",
    "\n",
    "\n",
    "## Check the 'Kernel Matrix' from the 'result'  \n",
    "\n",
    "**Kernel Matrix**: a sort of distance between points in higher dimension"
   ]
  },
  {
   "cell_type": "code",
   "execution_count": 10,
   "metadata": {},
   "outputs": [
    {
     "name": "stdout",
     "output_type": "stream",
     "text": [
      "\n",
      "  Kernel Matrix during the training:\n",
      "\n"
     ]
    },
    {
     "data": {
      "image/png": "[encoded data removed]",
      "text/plain": [
       "<Figure size 720x576 with 2 Axes>"
      ]
     },
     "metadata": {
      "needs_background": "light"
     },
     "output_type": "display_data"
    }
   ],
   "source": [
    "print(\"\\n  Kernel Matrix during the training:\\n\")\n",
    "kernel_matrix = result['kernel_matrix_training']\n",
    "# plot this kernel matrix\n",
    "plt.figure(figsize=(10, 8))\n",
    "img = plt.imshow(np.asmatrix(kernel_matrix), interpolation='nearest', origin='upper', cmap='viridis')\n",
    "plt.colorbar()\n",
    "plt.show()"
   ]
  },
  {
   "cell_type": "markdown",
   "metadata": {},
   "source": [
    "## Explanation of this plot  \n",
    "\n",
    "This plot shows the **kernel matrix** of the training result of the QSVM model/ algorithm. \n",
    "First, by applying the quantum feature map, ZZFeatureMap, to remap the dataset into a higher (vector) space. \n",
    "Second, calculate the inner product of each possible pair of data points. eg. the inner product of a vector with itself is one. those points at the diagonal are exactly the amplitude of an inner product of each vector with itself,i.e, |<1|1>|^2 = 1.0 ,  |<2|2>|^2 = 1.0,  |<19|19>|^2 = 1.0 , etc. Those dark points with value of zero correspond to the inner product of two orthogonal vectors. "
   ]
  },
  {
   "cell_type": "markdown",
   "metadata": {},
   "source": [
    "# Prediction"
   ]
  },
  {
   "cell_type": "code",
   "execution_count": 11,
   "metadata": {},
   "outputs": [
    {
     "name": "stdout",
     "output_type": "stream",
     "text": [
      "Ground truth: [0 0 0 0 0 0 0 0 0 0 0 0 0 0 0 0 0 0 0 0 1 1 1 1 1 1 1 1 1 1 1 1 1 1 1 1 1\n",
      " 1 1 1]\n",
      "Prediction: [0 0 0 0 0 0 0 0 0 0 0 0 0 0 0 0 0 0 0 0 1 1 1 1 1 1 1 1 1 1 1 1 1 1 1 1 1\n",
      " 1 1 1]\n",
      "testing success ration: 1.0\n"
     ]
    }
   ],
   "source": [
    "predicted_labels = qsvm.predict(datapoints[0])\n",
    "predicted_classes = map_label_to_class_name(predicted_labels, qsvm.label_to_class)\n",
    "print(\"Ground truth: {}\".format(datapoints[1]))\n",
    "print(\"Prediction: {}\".format(predicted_labels))\n",
    "# prediction accuracy\n",
    "print(\"testing success ration: {}\".format(result['testing_accuracy']))"
   ]
  },
  {
   "cell_type": "code",
   "execution_count": null,
   "metadata": {},
   "outputs": [],
   "source": []
  },
  {
   "cell_type": "code",
   "execution_count": null,
   "metadata": {},
   "outputs": [],
   "source": []
  }
 ],
 "metadata": {
  "kernelspec": {
   "display_name": "Python 3",
   "language": "python",
   "name": "python3"
  },
  "language_info": {
   "codemirror_mode": {
    "name": "ipython",
    "version": 3
   },
   "file_extension": ".py",
   "mimetype": "text/x-python",
   "name": "python",
   "nbconvert_exporter": "python",
   "pygments_lexer": "ipython3",
   "version": "3.8.6"
  },
  "varInspector": {
   "cols": {
    "lenName": 16,
    "lenType": 16,
    "lenVar": 40
   },
   "kernels_config": {
    "python": {
     "delete_cmd_postfix": "",
     "delete_cmd_prefix": "del ",
     "library": "var_list.py",
     "varRefreshCmd": "print(var_dic_list())"
    },
    "r": {
     "delete_cmd_postfix": ") ",
     "delete_cmd_prefix": "rm(",
     "library": "var_list.r",
     "varRefreshCmd": "cat(var_dic_list()) "
    }
   },
   "types_to_exclude": [
    "module",
    "function",
    "builtin_function_or_method",
    "instance",
    "_Feature"
   ],
   "window_display": false
  }
 },
 "nbformat": 4,
 "nbformat_minor": 4
}
