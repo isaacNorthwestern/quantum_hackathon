{
 "cells": [
  {
   "cell_type": "markdown",
   "metadata": {},
   "source": [
    "# Import libraries and packages"
   ]
  },
  {
   "cell_type": "code",
   "execution_count": 24,
   "metadata": {},
   "outputs": [
    {
     "name": "stdout",
     "output_type": "stream",
     "text": [
      "new_shootings_new_with_county_dem_and_police_info_2.csv\r\n",
      "qiskit-textbook\r\n",
      "qiskit-tutorials\r\n",
      "QSVM-baseline.ipynb\r\n",
      "shootings_new_with_county_dem_and_police_info2.csv\r\n",
      "test.csv\r\n",
      "Untitled.ipynb\r\n"
     ]
    }
   ],
   "source": [
    "!ls"
   ]
  },
  {
   "cell_type": "code",
   "execution_count": 25,
   "metadata": {},
   "outputs": [],
   "source": [
    "# import qiskit library\n",
    "import qiskit\n",
    "import cvxpy # dependency needed for QSVM\n",
    "from qiskit.tools.monitor import job_monitor"
   ]
  },
  {
   "cell_type": "code",
   "execution_count": 26,
   "metadata": {},
   "outputs": [
    {
     "name": "stderr",
     "output_type": "stream",
     "text": [
      "/opt/conda/lib/python3.8/site-packages/qiskit/providers/ibmq/ibmqfactory.py:192: UserWarning: Timestamps in IBMQ backend properties, jobs, and job results are all now in local time instead of UTC.\n",
      "  warnings.warn('Timestamps in IBMQ backend properties, jobs, and job results '\n",
      "ibmqfactory.load_account:WARNING:2021-02-26 06:40:30,904: Credentials are already in use. The existing account in the session will be replaced.\n"
     ]
    },
    {
     "name": "stdout",
     "output_type": "stream",
     "text": [
      "Necessary libraries and packages are imported successfully!\n"
     ]
    }
   ],
   "source": [
    "# for plotting\n",
    "import matplotlib.pyplot as plt\n",
    "# for matrix and linear algebra\n",
    "import numpy as np\n",
    "import pandas as pd\n",
    "\n",
    "from sklearn.model_selection import train_test_split\n",
    "from sklearn.preprocessing import MinMaxScaler\n",
    "\n",
    "from qiskit import IBMQ\n",
    "# IBMQ.save_account(open(\"token.txt\", \"r\").read())\n",
    "IBMQ.load_account()\n",
    "# from qiskit.ml.datasets import ad_hoc_data # preinstalled dataset\n",
    "# from qiskit import BasicAer # basic simulator\n",
    "from qiskit.aqua import QuantumInstance # import Quantm Instance to run the experiment\n",
    "from qiskit.circuit.library import ZZFeatureMap # import quantum feature map\n",
    "from qiskit.aqua.algorithms import QSVM # import Quantum Support vector Machine model\n",
    "from qiskit.aqua.utils import split_dataset_to_data_and_labels, map_label_to_class_name # import several useful unitilies\n",
    "\n",
    "print(\"Necessary libraries and packages are imported successfully!\")"
   ]
  },
  {
   "cell_type": "markdown",
   "metadata": {},
   "source": [
    "# Setup parameters"
   ]
  },
  {
   "cell_type": "code",
   "execution_count": 28,
   "metadata": {},
   "outputs": [
    {
     "data": {
      "text/html": [
       "<div>\n",
       "<style scoped>\n",
       "    .dataframe tbody tr th:only-of-type {\n",
       "        vertical-align: middle;\n",
       "    }\n",
       "\n",
       "    .dataframe tbody tr th {\n",
       "        vertical-align: top;\n",
       "    }\n",
       "\n",
       "    .dataframe thead th {\n",
       "        text-align: right;\n",
       "    }\n",
       "</style>\n",
       "<table border=\"1\" class=\"dataframe\">\n",
       "  <thead>\n",
       "    <tr style=\"text-align: right;\">\n",
       "      <th></th>\n",
       "      <th>Unnamed: 0</th>\n",
       "      <th>State-county FIPS code</th>\n",
       "      <th>county_state</th>\n",
       "      <th>city_state</th>\n",
       "      <th>City</th>\n",
       "      <th>State</th>\n",
       "      <th>% of killed who carried gun</th>\n",
       "      <th>% of killed who were unarmed</th>\n",
       "      <th>% of killed who were race A</th>\n",
       "      <th>% of killed who were race B</th>\n",
       "      <th>...</th>\n",
       "      <th>calc_percentile_police_spending_ratio</th>\n",
       "      <th>calc_misconduct_settlements_per_10k_population</th>\n",
       "      <th>calc_percentile_misconduct_settlements_per_population</th>\n",
       "      <th>calc_police_shootings_per_arrest</th>\n",
       "      <th>calc_percentile_police_shootings_per_arrest</th>\n",
       "      <th>advocacy_tip</th>\n",
       "      <th>civilian_complaints_source</th>\n",
       "      <th>civilian_complaints_source_link</th>\n",
       "      <th>fips_state_adj</th>\n",
       "      <th>fips_county_adj</th>\n",
       "    </tr>\n",
       "  </thead>\n",
       "  <tbody>\n",
       "    <tr>\n",
       "      <th>0</th>\n",
       "      <td>1</td>\n",
       "      <td>1003.0</td>\n",
       "      <td>Baldwin County AL</td>\n",
       "      <td>Bay Minette AL</td>\n",
       "      <td>Bay Minette</td>\n",
       "      <td>AL</td>\n",
       "      <td>1.0</td>\n",
       "      <td>0.0</td>\n",
       "      <td>0.0</td>\n",
       "      <td>0.0</td>\n",
       "      <td>...</td>\n",
       "      <td>6%</td>\n",
       "      <td>NaN</td>\n",
       "      <td>NaN</td>\n",
       "      <td>NaN</td>\n",
       "      <td>NaN</td>\n",
       "      <td>NaN</td>\n",
       "      <td>NaN</td>\n",
       "      <td>NaN</td>\n",
       "      <td>1.0</td>\n",
       "      <td>3.0</td>\n",
       "    </tr>\n",
       "    <tr>\n",
       "      <th>1</th>\n",
       "      <td>2</td>\n",
       "      <td>1003.0</td>\n",
       "      <td>Baldwin County AL</td>\n",
       "      <td>Baldwin County AL</td>\n",
       "      <td>Baldwin County</td>\n",
       "      <td>AL</td>\n",
       "      <td>0.0</td>\n",
       "      <td>1.0</td>\n",
       "      <td>0.0</td>\n",
       "      <td>0.0</td>\n",
       "      <td>...</td>\n",
       "      <td>6%</td>\n",
       "      <td>NaN</td>\n",
       "      <td>NaN</td>\n",
       "      <td>NaN</td>\n",
       "      <td>NaN</td>\n",
       "      <td>NaN</td>\n",
       "      <td>NaN</td>\n",
       "      <td>NaN</td>\n",
       "      <td>1.0</td>\n",
       "      <td>3.0</td>\n",
       "    </tr>\n",
       "    <tr>\n",
       "      <th>2</th>\n",
       "      <td>3</td>\n",
       "      <td>1005.0</td>\n",
       "      <td>Barbour County AL</td>\n",
       "      <td>Eufaula AL</td>\n",
       "      <td>Eufaula</td>\n",
       "      <td>AL</td>\n",
       "      <td>1.0</td>\n",
       "      <td>0.0</td>\n",
       "      <td>0.0</td>\n",
       "      <td>1.0</td>\n",
       "      <td>...</td>\n",
       "      <td>NaN</td>\n",
       "      <td>NaN</td>\n",
       "      <td>NaN</td>\n",
       "      <td>NaN</td>\n",
       "      <td>NaN</td>\n",
       "      <td>NaN</td>\n",
       "      <td>NaN</td>\n",
       "      <td>NaN</td>\n",
       "      <td>1.0</td>\n",
       "      <td>5.0</td>\n",
       "    </tr>\n",
       "    <tr>\n",
       "      <th>3</th>\n",
       "      <td>4</td>\n",
       "      <td>1009.0</td>\n",
       "      <td>Blount County AL</td>\n",
       "      <td>Brooksville AL</td>\n",
       "      <td>Brooksville</td>\n",
       "      <td>AL</td>\n",
       "      <td>1.0</td>\n",
       "      <td>0.0</td>\n",
       "      <td>0.0</td>\n",
       "      <td>0.0</td>\n",
       "      <td>...</td>\n",
       "      <td>NaN</td>\n",
       "      <td>NaN</td>\n",
       "      <td>NaN</td>\n",
       "      <td>NaN</td>\n",
       "      <td>NaN</td>\n",
       "      <td>NaN</td>\n",
       "      <td>NaN</td>\n",
       "      <td>NaN</td>\n",
       "      <td>1.0</td>\n",
       "      <td>9.0</td>\n",
       "    </tr>\n",
       "    <tr>\n",
       "      <th>4</th>\n",
       "      <td>5</td>\n",
       "      <td>1015.0</td>\n",
       "      <td>Calhoun County AL</td>\n",
       "      <td>Piedmont AL</td>\n",
       "      <td>Piedmont</td>\n",
       "      <td>AL</td>\n",
       "      <td>1.0</td>\n",
       "      <td>0.0</td>\n",
       "      <td>0.0</td>\n",
       "      <td>0.0</td>\n",
       "      <td>...</td>\n",
       "      <td>NaN</td>\n",
       "      <td>NaN</td>\n",
       "      <td>NaN</td>\n",
       "      <td>NaN</td>\n",
       "      <td>NaN</td>\n",
       "      <td>NaN</td>\n",
       "      <td>NaN</td>\n",
       "      <td>NaN</td>\n",
       "      <td>1.0</td>\n",
       "      <td>15.0</td>\n",
       "    </tr>\n",
       "  </tbody>\n",
       "</table>\n",
       "<p>5 rows × 343 columns</p>\n",
       "</div>"
      ],
      "text/plain": [
       "   Unnamed: 0  State-county FIPS code       county_state         city_state  \\\n",
       "0           1                  1003.0  Baldwin County AL     Bay Minette AL   \n",
       "1           2                  1003.0  Baldwin County AL  Baldwin County AL   \n",
       "2           3                  1005.0  Barbour County AL         Eufaula AL   \n",
       "3           4                  1009.0   Blount County AL     Brooksville AL   \n",
       "4           5                  1015.0  Calhoun County AL        Piedmont AL   \n",
       "\n",
       "             City State  % of killed who carried gun  \\\n",
       "0     Bay Minette    AL                          1.0   \n",
       "1  Baldwin County    AL                          0.0   \n",
       "2         Eufaula    AL                          1.0   \n",
       "3     Brooksville    AL                          1.0   \n",
       "4        Piedmont    AL                          1.0   \n",
       "\n",
       "   % of killed who were unarmed  % of killed who were race A  \\\n",
       "0                           0.0                          0.0   \n",
       "1                           1.0                          0.0   \n",
       "2                           0.0                          0.0   \n",
       "3                           0.0                          0.0   \n",
       "4                           0.0                          0.0   \n",
       "\n",
       "   % of killed who were race B  ...  calc_percentile_police_spending_ratio  \\\n",
       "0                          0.0  ...                                     6%   \n",
       "1                          0.0  ...                                     6%   \n",
       "2                          1.0  ...                                    NaN   \n",
       "3                          0.0  ...                                    NaN   \n",
       "4                          0.0  ...                                    NaN   \n",
       "\n",
       "   calc_misconduct_settlements_per_10k_population  \\\n",
       "0                                             NaN   \n",
       "1                                             NaN   \n",
       "2                                             NaN   \n",
       "3                                             NaN   \n",
       "4                                             NaN   \n",
       "\n",
       "   calc_percentile_misconduct_settlements_per_population  \\\n",
       "0                                                NaN       \n",
       "1                                                NaN       \n",
       "2                                                NaN       \n",
       "3                                                NaN       \n",
       "4                                                NaN       \n",
       "\n",
       "   calc_police_shootings_per_arrest  \\\n",
       "0                               NaN   \n",
       "1                               NaN   \n",
       "2                               NaN   \n",
       "3                               NaN   \n",
       "4                               NaN   \n",
       "\n",
       "   calc_percentile_police_shootings_per_arrest  advocacy_tip  \\\n",
       "0                                          NaN           NaN   \n",
       "1                                          NaN           NaN   \n",
       "2                                          NaN           NaN   \n",
       "3                                          NaN           NaN   \n",
       "4                                          NaN           NaN   \n",
       "\n",
       "   civilian_complaints_source  civilian_complaints_source_link  \\\n",
       "0                         NaN                              NaN   \n",
       "1                         NaN                              NaN   \n",
       "2                         NaN                              NaN   \n",
       "3                         NaN                              NaN   \n",
       "4                         NaN                              NaN   \n",
       "\n",
       "   fips_state_adj  fips_county_adj  \n",
       "0             1.0              3.0  \n",
       "1             1.0              3.0  \n",
       "2             1.0              5.0  \n",
       "3             1.0              9.0  \n",
       "4             1.0             15.0  \n",
       "\n",
       "[5 rows x 343 columns]"
      ]
     },
     "execution_count": 28,
     "metadata": {},
     "output_type": "execute_result"
    }
   ],
   "source": [
    "rawdat = pd.read_csv('new_shootings_new_with_county_dem_and_police_info_2.csv', low_memory=False)\n",
    "rawdat.shape\n",
    "rawdat.head()"
   ]
  },
  {
   "cell_type": "code",
   "execution_count": 29,
   "metadata": {},
   "outputs": [],
   "source": [
    "rawdat['% of killed who were minority'] = rawdat[[\"% of killed who were race A\",\n",
    "\"% of killed who were race B\",\n",
    "\"% of killed who were race H\",\n",
    "\"% of killed who were race N\",\n",
    "\"% of killed who were race O\"]].sum(axis=1)"
   ]
  },
  {
   "cell_type": "markdown",
   "metadata": {},
   "source": [
    "# Setup data"
   ]
  },
  {
   "cell_type": "code",
   "execution_count": 30,
   "metadata": {},
   "outputs": [],
   "source": [
    "PREDICTORS = [\"use_of_force_complaints_sustained.per.100k\", \n",
    "              \"complaints_in_detention_sustained.per.100k\",\n",
    "              \"discrimination_complaints_sustained.per.100k\",\n",
    "              \"civilian_complaints_reported.per.100k\",\n",
    "              \"calc_low_level_arrests_per_1k_population.per.100k\",\n",
    "              \"complaints_in_detention_reported.per.100k\",\n",
    "              \"hispanic_as_share_total_arrests\"]"
   ]
  },
  {
   "cell_type": "code",
   "execution_count": 31,
   "metadata": {},
   "outputs": [
    {
     "data": {
      "text/plain": [
       "10"
      ]
     },
     "execution_count": 31,
     "metadata": {},
     "output_type": "execute_result"
    }
   ],
   "source": [
    "PREDICTORS = [\"% of killed who carried gun\",\"% of killed who were unarmed\",\n",
    "# \"% of killed who were minority\",\n",
    "# \"% of killed who had sign of mental illness\",\"% of killed who were male\",\n",
    "# \"% of killed who attacked\",\"% of killed whose threat undertermined\",\n",
    "# \"% of killed who were fleeing\",\"% of killed whose killer had body camera on\",\n",
    "# \"% of killed age 10 and below\",\"% of killed 30 and below\",\"% of killed 50 and below\",\n",
    "# \"Estimated percent of people of all ages in poverty 2019\",\n",
    "# \"Estimated percent of people age 0-17 in poverty 2019\",\n",
    "# \"Estimated percent of related children age 5-17 in families in poverty 2019\",\n",
    "# \"Estimate of median household income 2019\",\n",
    "# \"POP_ESTIMATE_2019\",\n",
    "# \"Unemployment_rate_2019\",\n",
    "\"Percent of adults with less than a high school diploma, 2015-19\",\n",
    "\"Percent of adults with a high school diploma only, 2015-19\",\n",
    "\"Percent of adults completing some college or associate's degree, 2015-19\",\n",
    "\"Percent of adults with a bachelor's degree or higher, 2015-19\",\n",
    "\"white_population\",\n",
    "\"calc_officers_per_10k_population\",\n",
    "\"calc_fines_forfeitures_per_resident\",\n",
    "\"calc_police_spending_per_resident\"]"
   ]
  },
  {
   "cell_type": "code",
   "execution_count": 32,
   "metadata": {},
   "outputs": [
    {
     "data": {
      "text/html": [
       "<div>\n",
       "<style scoped>\n",
       "    .dataframe tbody tr th:only-of-type {\n",
       "        vertical-align: middle;\n",
       "    }\n",
       "\n",
       "    .dataframe tbody tr th {\n",
       "        vertical-align: top;\n",
       "    }\n",
       "\n",
       "    .dataframe thead th {\n",
       "        text-align: right;\n",
       "    }\n",
       "</style>\n",
       "<table border=\"1\" class=\"dataframe\">\n",
       "  <thead>\n",
       "    <tr style=\"text-align: right;\">\n",
       "      <th></th>\n",
       "      <th>Unnamed: 0</th>\n",
       "      <th>State-county FIPS code</th>\n",
       "      <th>county_state</th>\n",
       "      <th>city_state</th>\n",
       "      <th>City</th>\n",
       "      <th>State</th>\n",
       "      <th>% of killed who carried gun</th>\n",
       "      <th>% of killed who were unarmed</th>\n",
       "      <th>% of killed who were race A</th>\n",
       "      <th>% of killed who were race B</th>\n",
       "      <th>...</th>\n",
       "      <th>calc_misconduct_settlements_per_10k_population</th>\n",
       "      <th>calc_percentile_misconduct_settlements_per_population</th>\n",
       "      <th>calc_police_shootings_per_arrest</th>\n",
       "      <th>calc_percentile_police_shootings_per_arrest</th>\n",
       "      <th>advocacy_tip</th>\n",
       "      <th>civilian_complaints_source</th>\n",
       "      <th>civilian_complaints_source_link</th>\n",
       "      <th>fips_state_adj</th>\n",
       "      <th>fips_county_adj</th>\n",
       "      <th>% of killed who were minority</th>\n",
       "    </tr>\n",
       "  </thead>\n",
       "  <tbody>\n",
       "    <tr>\n",
       "      <th>0</th>\n",
       "      <td>1085</td>\n",
       "      <td>40089.0</td>\n",
       "      <td>McCurtain County OK</td>\n",
       "      <td>Tom OK</td>\n",
       "      <td>Tom</td>\n",
       "      <td>OK</td>\n",
       "      <td>1.000000</td>\n",
       "      <td>0.000000</td>\n",
       "      <td>0.000000</td>\n",
       "      <td>0.0000</td>\n",
       "      <td>...</td>\n",
       "      <td>NaN</td>\n",
       "      <td>NaN</td>\n",
       "      <td>NaN</td>\n",
       "      <td>NaN</td>\n",
       "      <td>NaN</td>\n",
       "      <td>NaN</td>\n",
       "      <td>NaN</td>\n",
       "      <td>40.0</td>\n",
       "      <td>89.0</td>\n",
       "      <td>0.000000</td>\n",
       "    </tr>\n",
       "    <tr>\n",
       "      <th>1</th>\n",
       "      <td>1237</td>\n",
       "      <td>47105.0</td>\n",
       "      <td>Loudon County TN</td>\n",
       "      <td>Lenoir City TN</td>\n",
       "      <td>Lenoir City</td>\n",
       "      <td>TN</td>\n",
       "      <td>0.333333</td>\n",
       "      <td>0.333333</td>\n",
       "      <td>0.333333</td>\n",
       "      <td>0.0000</td>\n",
       "      <td>...</td>\n",
       "      <td>NaN</td>\n",
       "      <td>NaN</td>\n",
       "      <td>NaN</td>\n",
       "      <td>NaN</td>\n",
       "      <td>NaN</td>\n",
       "      <td>NaN</td>\n",
       "      <td>NaN</td>\n",
       "      <td>47.0</td>\n",
       "      <td>105.0</td>\n",
       "      <td>0.333333</td>\n",
       "    </tr>\n",
       "    <tr>\n",
       "      <th>2</th>\n",
       "      <td>426</td>\n",
       "      <td>12086.0</td>\n",
       "      <td>Miami-Dade County FL</td>\n",
       "      <td>Little Havana FL</td>\n",
       "      <td>Little Havana</td>\n",
       "      <td>FL</td>\n",
       "      <td>1.000000</td>\n",
       "      <td>0.000000</td>\n",
       "      <td>0.000000</td>\n",
       "      <td>0.0000</td>\n",
       "      <td>...</td>\n",
       "      <td>NaN</td>\n",
       "      <td>NaN</td>\n",
       "      <td>1.4</td>\n",
       "      <td>59%</td>\n",
       "      <td>NaN</td>\n",
       "      <td>NaN</td>\n",
       "      <td>NaN</td>\n",
       "      <td>12.0</td>\n",
       "      <td>86.0</td>\n",
       "      <td>1.000000</td>\n",
       "    </tr>\n",
       "    <tr>\n",
       "      <th>3</th>\n",
       "      <td>850</td>\n",
       "      <td>29510.0</td>\n",
       "      <td>St. Louis city MO</td>\n",
       "      <td>St. Louis MO</td>\n",
       "      <td>St. Louis</td>\n",
       "      <td>MO</td>\n",
       "      <td>0.875000</td>\n",
       "      <td>0.031250</td>\n",
       "      <td>0.000000</td>\n",
       "      <td>0.8125</td>\n",
       "      <td>...</td>\n",
       "      <td>NaN</td>\n",
       "      <td>NaN</td>\n",
       "      <td>NaN</td>\n",
       "      <td>NaN</td>\n",
       "      <td>NaN</td>\n",
       "      <td>NaN</td>\n",
       "      <td>NaN</td>\n",
       "      <td>29.0</td>\n",
       "      <td>510.0</td>\n",
       "      <td>0.812500</td>\n",
       "    </tr>\n",
       "    <tr>\n",
       "      <th>4</th>\n",
       "      <td>6</td>\n",
       "      <td>1015.0</td>\n",
       "      <td>Calhoun County AL</td>\n",
       "      <td>Eastaboga AL</td>\n",
       "      <td>Eastaboga</td>\n",
       "      <td>AL</td>\n",
       "      <td>1.000000</td>\n",
       "      <td>0.000000</td>\n",
       "      <td>0.000000</td>\n",
       "      <td>1.0000</td>\n",
       "      <td>...</td>\n",
       "      <td>NaN</td>\n",
       "      <td>NaN</td>\n",
       "      <td>NaN</td>\n",
       "      <td>NaN</td>\n",
       "      <td>NaN</td>\n",
       "      <td>NaN</td>\n",
       "      <td>NaN</td>\n",
       "      <td>1.0</td>\n",
       "      <td>15.0</td>\n",
       "      <td>1.000000</td>\n",
       "    </tr>\n",
       "  </tbody>\n",
       "</table>\n",
       "<p>5 rows × 344 columns</p>\n",
       "</div>"
      ],
      "text/plain": [
       "   Unnamed: 0  State-county FIPS code          county_state        city_state  \\\n",
       "0        1085                 40089.0   McCurtain County OK            Tom OK   \n",
       "1        1237                 47105.0      Loudon County TN    Lenoir City TN   \n",
       "2         426                 12086.0  Miami-Dade County FL  Little Havana FL   \n",
       "3         850                 29510.0     St. Louis city MO      St. Louis MO   \n",
       "4           6                  1015.0     Calhoun County AL      Eastaboga AL   \n",
       "\n",
       "            City State  % of killed who carried gun  \\\n",
       "0            Tom    OK                     1.000000   \n",
       "1    Lenoir City    TN                     0.333333   \n",
       "2  Little Havana    FL                     1.000000   \n",
       "3      St. Louis    MO                     0.875000   \n",
       "4      Eastaboga    AL                     1.000000   \n",
       "\n",
       "   % of killed who were unarmed  % of killed who were race A  \\\n",
       "0                      0.000000                     0.000000   \n",
       "1                      0.333333                     0.333333   \n",
       "2                      0.000000                     0.000000   \n",
       "3                      0.031250                     0.000000   \n",
       "4                      0.000000                     0.000000   \n",
       "\n",
       "   % of killed who were race B  ...  \\\n",
       "0                       0.0000  ...   \n",
       "1                       0.0000  ...   \n",
       "2                       0.0000  ...   \n",
       "3                       0.8125  ...   \n",
       "4                       1.0000  ...   \n",
       "\n",
       "   calc_misconduct_settlements_per_10k_population  \\\n",
       "0                                             NaN   \n",
       "1                                             NaN   \n",
       "2                                             NaN   \n",
       "3                                             NaN   \n",
       "4                                             NaN   \n",
       "\n",
       "   calc_percentile_misconduct_settlements_per_population  \\\n",
       "0                                                NaN       \n",
       "1                                                NaN       \n",
       "2                                                NaN       \n",
       "3                                                NaN       \n",
       "4                                                NaN       \n",
       "\n",
       "   calc_police_shootings_per_arrest  \\\n",
       "0                               NaN   \n",
       "1                               NaN   \n",
       "2                               1.4   \n",
       "3                               NaN   \n",
       "4                               NaN   \n",
       "\n",
       "   calc_percentile_police_shootings_per_arrest  advocacy_tip  \\\n",
       "0                                          NaN           NaN   \n",
       "1                                          NaN           NaN   \n",
       "2                                          59%           NaN   \n",
       "3                                          NaN           NaN   \n",
       "4                                          NaN           NaN   \n",
       "\n",
       "   civilian_complaints_source  civilian_complaints_source_link  \\\n",
       "0                         NaN                              NaN   \n",
       "1                         NaN                              NaN   \n",
       "2                         NaN                              NaN   \n",
       "3                         NaN                              NaN   \n",
       "4                         NaN                              NaN   \n",
       "\n",
       "   fips_state_adj  fips_county_adj  % of killed who were minority  \n",
       "0            40.0             89.0                       0.000000  \n",
       "1            47.0            105.0                       0.333333  \n",
       "2            12.0             86.0                       1.000000  \n",
       "3            29.0            510.0                       0.812500  \n",
       "4             1.0             15.0                       1.000000  \n",
       "\n",
       "[5 rows x 344 columns]"
      ]
     },
     "execution_count": 32,
     "metadata": {},
     "output_type": "execute_result"
    }
   ],
   "source": [
    "modeldat = rawdat.dropna(subset = ['calc_killed_by_police_per_10k_arrests'] + PREDICTORS,how='any')\n",
    "modeldat = modeldat.sample(40).reset_index(drop=True)\n",
    "modeldat.head()"
   ]
  },
  {
   "cell_type": "markdown",
   "metadata": {},
   "source": [
    "## Convert to a categorical target"
   ]
  },
  {
   "cell_type": "code",
   "execution_count": 33,
   "metadata": {},
   "outputs": [],
   "source": [
    "modeldat.loc[modeldat['calc_killed_by_police_per_10k_arrests']>=5, 'target'] = 1\n",
    "modeldat.loc[modeldat['calc_killed_by_police_per_10k_arrests']<5, 'target'] = 0"
   ]
  },
  {
   "cell_type": "code",
   "execution_count": 34,
   "metadata": {},
   "outputs": [],
   "source": [
    "modeldat = modeldat[['target'] + PREDICTORS]"
   ]
  },
  {
   "cell_type": "code",
   "execution_count": 35,
   "metadata": {},
   "outputs": [
    {
     "name": "stderr",
     "output_type": "stream",
     "text": [
      "<ipython-input-35-9dd9f9d1056c>:1: FutureWarning: The default value of regex will change from True to False in a future version. In addition, single character regular expressions will*not* be treated as literal strings when regex=True.\n",
      "  modeldat['calc_fines_forfeitures_per_resident'] = pd.to_numeric(modeldat['calc_fines_forfeitures_per_resident'].str.replace('$', ''))\n",
      "<ipython-input-35-9dd9f9d1056c>:2: FutureWarning: The default value of regex will change from True to False in a future version. In addition, single character regular expressions will*not* be treated as literal strings when regex=True.\n",
      "  modeldat['calc_police_spending_per_resident'] = pd.to_numeric(modeldat['calc_police_spending_per_resident'].str.replace('$', '').str.replace(',', ''))\n"
     ]
    }
   ],
   "source": [
    "modeldat['calc_fines_forfeitures_per_resident'] = pd.to_numeric(modeldat['calc_fines_forfeitures_per_resident'].str.replace('$', ''))\n",
    "modeldat['calc_police_spending_per_resident'] = pd.to_numeric(modeldat['calc_police_spending_per_resident'].str.replace('$', '').str.replace(',', ''))"
   ]
  },
  {
   "cell_type": "code",
   "execution_count": 54,
   "metadata": {},
   "outputs": [
    {
     "data": {
      "text/plain": [
       "(40, 11)"
      ]
     },
     "execution_count": 54,
     "metadata": {},
     "output_type": "execute_result"
    }
   ],
   "source": [
    "modeldat.shape"
   ]
  },
  {
   "cell_type": "code",
   "execution_count": 36,
   "metadata": {},
   "outputs": [],
   "source": [
    "model_train, model_test = train_test_split(modeldat,\n",
    "                                           test_size=0.33, \n",
    "                                           random_state=42)"
   ]
  },
  {
   "cell_type": "code",
   "execution_count": 37,
   "metadata": {},
   "outputs": [],
   "source": [
    "scaler = MinMaxScaler()\n",
    "Xtrain_scaled = scaler.fit_transform(model_train[PREDICTORS])\n",
    "Xtest_scaled = scaler.transform(model_test[PREDICTORS])"
   ]
  },
  {
   "cell_type": "code",
   "execution_count": 38,
   "metadata": {},
   "outputs": [],
   "source": [
    "train_scaled = pd.DataFrame(Xtrain_scaled)\n",
    "train_scaled.columns = PREDICTORS\n",
    "train_scaled['target'] = model_train['target'].reset_index(drop=True)\n",
    "\n",
    "test_scaled = pd.DataFrame(Xtest_scaled)\n",
    "test_scaled.columns = PREDICTORS\n",
    "test_scaled['target'] = model_test['target'].reset_index(drop=True)"
   ]
  },
  {
   "cell_type": "markdown",
   "metadata": {},
   "source": [
    "## Pre-processing"
   ]
  },
  {
   "cell_type": "markdown",
   "metadata": {},
   "source": [
    "## Split data and format for QSVM"
   ]
  },
  {
   "cell_type": "code",
   "execution_count": 39,
   "metadata": {},
   "outputs": [],
   "source": [
    "pos = np.array(train_scaled.loc[train_scaled['target']==1][PREDICTORS])\n",
    "neg = np.array(train_scaled.loc[train_scaled['target']==0][PREDICTORS])\n",
    "train={'pos': pos,'neg': neg}\n",
    "\n",
    "pos = np.array(test_scaled.loc[test_scaled['target']==1][PREDICTORS])\n",
    "neg = np.array(test_scaled.loc[test_scaled['target']==0][PREDICTORS])\n",
    "test={'pos': pos,'neg': neg}"
   ]
  },
  {
   "cell_type": "code",
   "execution_count": 40,
   "metadata": {},
   "outputs": [],
   "source": [
    "datapoints = [scaler.transform(modeldat[PREDICTORS]),\n",
    "              np.array(modeldat['target'])]"
   ]
  },
  {
   "cell_type": "code",
   "execution_count": 41,
   "metadata": {},
   "outputs": [
    {
     "name": "stdout",
     "output_type": "stream",
     "text": [
      "{'neg': 0, 'pos': 1}\n"
     ]
    }
   ],
   "source": [
    "datapoints, class_to_label = split_dataset_to_data_and_labels(train)\n",
    "print(class_to_label)"
   ]
  },
  {
   "cell_type": "markdown",
   "metadata": {},
   "source": [
    "## Setup the backend to run the QSVM"
   ]
  },
  {
   "cell_type": "code",
   "execution_count": 27,
   "metadata": {},
   "outputs": [],
   "source": [
    "feature_dim =len(PREDICTORS)\n",
    "random_seed = 42\n",
    "shot = 1"
   ]
  },
  {
   "cell_type": "code",
   "execution_count": 42,
   "metadata": {},
   "outputs": [
    {
     "name": "stderr",
     "output_type": "stream",
     "text": [
      "/opt/conda/lib/python3.8/site-packages/qiskit/providers/ibmq/ibmqfactory.py:192: UserWarning: Timestamps in IBMQ backend properties, jobs, and job results are all now in local time instead of UTC.\n",
      "  warnings.warn('Timestamps in IBMQ backend properties, jobs, and job results '\n",
      "ibmqfactory.load_account:WARNING:2021-02-26 06:40:37,537: Credentials are already in use. The existing account in the session will be replaced.\n"
     ]
    }
   ],
   "source": [
    "# use the qasm simulator\n",
    "IBMQ.load_account()\n",
    "provider=IBMQ.get_provider(\"ibm-q\")\n",
    "backend=provider.get_backend(\"ibmq_qasm_simulator\")\n",
    "# backend = BasicAer.get_backend('qasm_simulator')\n",
    "# define the feature map\n",
    "\n",
    "feature_map = ZZFeatureMap(feature_dim, reps=2)\n",
    "qsvm = QSVM(feature_map, train, test, None)\n",
    "qsvm.random_seed = random_seed\n",
    "quantum_instance = QuantumInstance(backend, shots=shot, seed_simulator=random_seed, seed_transpiler=random_seed)"
   ]
  },
  {
   "cell_type": "code",
   "execution_count": 43,
   "metadata": {},
   "outputs": [],
   "source": [
    "result = qsvm.run(quantum_instance)"
   ]
  },
  {
   "cell_type": "markdown",
   "metadata": {},
   "source": [
    "# Prediction"
   ]
  },
  {
   "cell_type": "code",
   "execution_count": 50,
   "metadata": {},
   "outputs": [
    {
     "data": {
      "text/plain": [
       "0.8571428571428571"
      ]
     },
     "execution_count": 50,
     "metadata": {},
     "output_type": "execute_result"
    }
   ],
   "source": [
    "result['testing_accuracy']"
   ]
  },
  {
   "cell_type": "code",
   "execution_count": 47,
   "metadata": {},
   "outputs": [
    {
     "name": "stdout",
     "output_type": "stream",
     "text": [
      "Ground truth: [0 0 0 0 0 0 0 0 0 0 0 0 0 0 0 0 0 0 0 1 1 1 1 1 1 1]\n",
      "Prediction: [0 0 0 0 0 0 0 0 0 0 0 0 0 0 0 0 0 0 0 1 1 1 1 1 1 1]\n",
      "testing success ratio: 0.8571428571428571\n"
     ]
    }
   ],
   "source": [
    "predicted_labels = qsvm.predict(datapoints[0])\n",
    "predicted_classes = map_label_to_class_name(predicted_labels, qsvm.label_to_class)\n",
    "print(\"Ground truth: {}\".format(datapoints[1]))\n",
    "print(\"Prediction: {}\".format(predicted_labels))\n",
    "\n",
    "# prediction accuracy\n",
    "print(\"testing success ratio: {}\".format(result['testing_accuracy']))"
   ]
  }
 ],
 "metadata": {
  "kernelspec": {
   "display_name": "Python 3",
   "language": "python",
   "name": "python3"
  },
  "language_info": {
   "codemirror_mode": {
    "name": "ipython",
    "version": 3
   },
   "file_extension": ".py",
   "mimetype": "text/x-python",
   "name": "python",
   "nbconvert_exporter": "python",
   "pygments_lexer": "ipython3",
   "version": "3.8.6"
  },
  "varInspector": {
   "cols": {
    "lenName": 16,
    "lenType": 16,
    "lenVar": 40
   },
   "kernels_config": {
    "python": {
     "delete_cmd_postfix": "",
     "delete_cmd_prefix": "del ",
     "library": "var_list.py",
     "varRefreshCmd": "print(var_dic_list())"
    },
    "r": {
     "delete_cmd_postfix": ") ",
     "delete_cmd_prefix": "rm(",
     "library": "var_list.r",
     "varRefreshCmd": "cat(var_dic_list()) "
    }
   },
   "types_to_exclude": [
    "module",
    "function",
    "builtin_function_or_method",
    "instance",
    "_Feature"
   ],
   "window_display": false
  }
 },
 "nbformat": 4,
 "nbformat_minor": 4
}
