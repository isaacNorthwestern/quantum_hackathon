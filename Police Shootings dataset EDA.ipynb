{
 "cells": [
  {
   "cell_type": "code",
   "execution_count": 304,
   "metadata": {},
   "outputs": [],
   "source": [
    "import pandas as pd\n",
    "import datetime"
   ]
  },
  {
   "cell_type": "code",
   "execution_count": 305,
   "metadata": {},
   "outputs": [],
   "source": [
    "shootings = pd.read_csv('https://raw.githubusercontent.com/washingtonpost/data-police-shootings/master/fatal-police-shootings-data.csv')"
   ]
  },
  {
   "cell_type": "code",
   "execution_count": 306,
   "metadata": {},
   "outputs": [
    {
     "data": {
      "text/plain": [
       "(6068, 17)"
      ]
     },
     "execution_count": 306,
     "metadata": {},
     "output_type": "execute_result"
    }
   ],
   "source": [
    "shootings.shape"
   ]
  },
  {
   "cell_type": "code",
   "execution_count": 307,
   "metadata": {
    "scrolled": true
   },
   "outputs": [
    {
     "data": {
      "text/plain": [
       "id                           0\n",
       "name                       218\n",
       "date                         0\n",
       "manner_of_death              0\n",
       "armed                      208\n",
       "age                        266\n",
       "gender                       1\n",
       "race                       589\n",
       "city                         0\n",
       "state                        0\n",
       "signs_of_mental_illness      0\n",
       "threat_level                 0\n",
       "flee                       342\n",
       "body_camera                  0\n",
       "longitude                  297\n",
       "latitude                   297\n",
       "is_geocoding_exact           0\n",
       "dtype: int64"
      ]
     },
     "execution_count": 307,
     "metadata": {},
     "output_type": "execute_result"
    }
   ],
   "source": [
    "shootings.isnull().sum()"
   ]
  },
  {
   "cell_type": "code",
   "execution_count": 308,
   "metadata": {},
   "outputs": [],
   "source": [
    "# Remove: Longitude, Latitude, Name, ID from dataset\n",
    "shootings = shootings.drop(columns=['id','name','longitude','latitude'])"
   ]
  },
  {
   "cell_type": "code",
   "execution_count": 309,
   "metadata": {},
   "outputs": [
    {
     "data": {
      "text/plain": [
       "(1163, 13)"
      ]
     },
     "execution_count": 309,
     "metadata": {},
     "output_type": "execute_result"
    }
   ],
   "source": [
    "# rows that have missing values\n",
    "miss_value_rows = shootings.loc[shootings.isnull().any(axis=1)]\n",
    "miss_value_rows.shape"
   ]
  },
  {
   "cell_type": "code",
   "execution_count": 310,
   "metadata": {},
   "outputs": [],
   "source": [
    "# drop that row where gender is not known\n",
    "shootings = shootings[pd.notnull(shootings['gender'])]"
   ]
  },
  {
   "cell_type": "code",
   "execution_count": 317,
   "metadata": {},
   "outputs": [],
   "source": [
    "# add age_group column\n",
    "shootings['age_group'] = pd.cut(shootings['age'], bins=[0, 10, 20, 30,40,50,60,70,80,90,float('Inf')], labels=['0-10', '10-20', '20-30','30-40','40-50','50-60','60-70','70-80','80-90','90-'])\n"
   ]
  },
  {
   "cell_type": "code",
   "execution_count": 312,
   "metadata": {},
   "outputs": [],
   "source": [
    "# any other item then 'gun'  or 'unarmed' or 'NaN' is classified as 'other'\n",
    "# NaNs are transformed to 'unknown'\n",
    "# levels in armed: gun, other, unarmed, and unknown\n",
    "shootings['armed'] = shootings['armed'].astype(str)\n",
    "shootings.loc[shootings['armed'] == 'nan', 'armed'] = 'unknown'\n",
    "shootings.loc[shootings['armed'].str.contains('gun'), 'armed'] = 'gun'\n",
    "shootings.loc[(shootings['armed'] != 'gun') & (shootings['armed']!='unknown') & (shootings['armed']!='unarmed'), 'armed'] = 'other'"
   ]
  },
  {
   "cell_type": "code",
   "execution_count": 313,
   "metadata": {},
   "outputs": [],
   "source": [
    "# do the same thing as above for flee\n",
    "# levels in flee: flee, no flee, and unknown\n",
    "shootings['flee'] = shootings['flee'].astype(str)\n",
    "shootings.loc[shootings['flee'] == 'nan', 'flee'] = 'unknown'\n",
    "shootings.loc[(shootings['flee'] == 'Car')|(shootings['flee'] == 'Foot')|(shootings['flee'] == 'Other') , 'flee'] = 'flee'\n",
    "shootings.loc[shootings['flee'] == 'Not fleeing', 'flee'] = 'no flee'"
   ]
  },
  {
   "cell_type": "code",
   "execution_count": 314,
   "metadata": {},
   "outputs": [],
   "source": [
    "#create Year column from date column\n",
    "shootings['Year'] = shootings['date'].str.split('-',expand=True)[0]"
   ]
  },
  {
   "cell_type": "code",
   "execution_count": 315,
   "metadata": {},
   "outputs": [],
   "source": [
    "# Rows that have county instead of cities in their 'city' column\n",
    "shootings_county = shootings[shootings['city'].str.contains('County')] "
   ]
  },
  {
   "cell_type": "code",
   "execution_count": 316,
   "metadata": {},
   "outputs": [
    {
     "data": {
      "text/plain": [
       "date                         0\n",
       "manner_of_death              0\n",
       "armed                        0\n",
       "age                        266\n",
       "gender                       0\n",
       "race                       589\n",
       "city                         0\n",
       "state                        0\n",
       "signs_of_mental_illness      0\n",
       "threat_level                 0\n",
       "flee                         0\n",
       "body_camera                  0\n",
       "is_geocoding_exact           0\n",
       "age_group                  266\n",
       "Year                         0\n",
       "dtype: int64"
      ]
     },
     "execution_count": 316,
     "metadata": {},
     "output_type": "execute_result"
    }
   ],
   "source": [
    "shootings.isnull().sum()"
   ]
  },
  {
   "cell_type": "code",
   "execution_count": 332,
   "metadata": {},
   "outputs": [
    {
     "data": {
      "text/html": [
       "<div>\n",
       "<style scoped>\n",
       "    .dataframe tbody tr th:only-of-type {\n",
       "        vertical-align: middle;\n",
       "    }\n",
       "\n",
       "    .dataframe tbody tr th {\n",
       "        vertical-align: top;\n",
       "    }\n",
       "\n",
       "    .dataframe thead th {\n",
       "        text-align: right;\n",
       "    }\n",
       "</style>\n",
       "<table border=\"1\" class=\"dataframe\">\n",
       "  <thead>\n",
       "    <tr style=\"text-align: right;\">\n",
       "      <th></th>\n",
       "      <th>date</th>\n",
       "      <th>manner_of_death</th>\n",
       "      <th>armed</th>\n",
       "      <th>age</th>\n",
       "      <th>gender</th>\n",
       "      <th>race</th>\n",
       "      <th>city</th>\n",
       "      <th>state</th>\n",
       "      <th>signs_of_mental_illness</th>\n",
       "      <th>threat_level</th>\n",
       "      <th>flee</th>\n",
       "      <th>body_camera</th>\n",
       "      <th>is_geocoding_exact</th>\n",
       "      <th>age_group</th>\n",
       "      <th>Year</th>\n",
       "    </tr>\n",
       "  </thead>\n",
       "  <tbody>\n",
       "    <tr>\n",
       "      <th>0</th>\n",
       "      <td>2015-01-02</td>\n",
       "      <td>shot</td>\n",
       "      <td>gun</td>\n",
       "      <td>53</td>\n",
       "      <td>M</td>\n",
       "      <td>A</td>\n",
       "      <td>Shelton</td>\n",
       "      <td>WA</td>\n",
       "      <td>True</td>\n",
       "      <td>attack</td>\n",
       "      <td>no flee</td>\n",
       "      <td>False</td>\n",
       "      <td>True</td>\n",
       "      <td>50-60</td>\n",
       "      <td>2015</td>\n",
       "    </tr>\n",
       "    <tr>\n",
       "      <th>1</th>\n",
       "      <td>2015-01-02</td>\n",
       "      <td>shot</td>\n",
       "      <td>gun</td>\n",
       "      <td>47</td>\n",
       "      <td>M</td>\n",
       "      <td>W</td>\n",
       "      <td>Aloha</td>\n",
       "      <td>OR</td>\n",
       "      <td>False</td>\n",
       "      <td>attack</td>\n",
       "      <td>no flee</td>\n",
       "      <td>False</td>\n",
       "      <td>True</td>\n",
       "      <td>40-50</td>\n",
       "      <td>2015</td>\n",
       "    </tr>\n",
       "    <tr>\n",
       "      <th>2</th>\n",
       "      <td>2015-01-03</td>\n",
       "      <td>shot and Tasered</td>\n",
       "      <td>unarmed</td>\n",
       "      <td>23</td>\n",
       "      <td>M</td>\n",
       "      <td>H</td>\n",
       "      <td>Wichita</td>\n",
       "      <td>KS</td>\n",
       "      <td>False</td>\n",
       "      <td>other</td>\n",
       "      <td>no flee</td>\n",
       "      <td>False</td>\n",
       "      <td>True</td>\n",
       "      <td>20-30</td>\n",
       "      <td>2015</td>\n",
       "    </tr>\n",
       "    <tr>\n",
       "      <th>3</th>\n",
       "      <td>2015-01-04</td>\n",
       "      <td>shot</td>\n",
       "      <td>other</td>\n",
       "      <td>32</td>\n",
       "      <td>M</td>\n",
       "      <td>W</td>\n",
       "      <td>San Francisco</td>\n",
       "      <td>CA</td>\n",
       "      <td>True</td>\n",
       "      <td>attack</td>\n",
       "      <td>no flee</td>\n",
       "      <td>False</td>\n",
       "      <td>True</td>\n",
       "      <td>30-40</td>\n",
       "      <td>2015</td>\n",
       "    </tr>\n",
       "    <tr>\n",
       "      <th>4</th>\n",
       "      <td>2015-01-04</td>\n",
       "      <td>shot</td>\n",
       "      <td>gun</td>\n",
       "      <td>39</td>\n",
       "      <td>M</td>\n",
       "      <td>H</td>\n",
       "      <td>Evans</td>\n",
       "      <td>CO</td>\n",
       "      <td>False</td>\n",
       "      <td>attack</td>\n",
       "      <td>no flee</td>\n",
       "      <td>False</td>\n",
       "      <td>True</td>\n",
       "      <td>30-40</td>\n",
       "      <td>2015</td>\n",
       "    </tr>\n",
       "  </tbody>\n",
       "</table>\n",
       "</div>"
      ],
      "text/plain": [
       "         date   manner_of_death    armed age gender race           city state  \\\n",
       "0  2015-01-02              shot      gun  53      M    A        Shelton    WA   \n",
       "1  2015-01-02              shot      gun  47      M    W          Aloha    OR   \n",
       "2  2015-01-03  shot and Tasered  unarmed  23      M    H        Wichita    KS   \n",
       "3  2015-01-04              shot    other  32      M    W  San Francisco    CA   \n",
       "4  2015-01-04              shot      gun  39      M    H          Evans    CO   \n",
       "\n",
       "  signs_of_mental_illness threat_level     flee body_camera  \\\n",
       "0                    True       attack  no flee       False   \n",
       "1                   False       attack  no flee       False   \n",
       "2                   False        other  no flee       False   \n",
       "3                    True       attack  no flee       False   \n",
       "4                   False       attack  no flee       False   \n",
       "\n",
       "  is_geocoding_exact age_group  Year  \n",
       "0               True     50-60  2015  \n",
       "1               True     40-50  2015  \n",
       "2               True     20-30  2015  \n",
       "3               True     30-40  2015  \n",
       "4               True     30-40  2015  "
      ]
     },
     "execution_count": 332,
     "metadata": {},
     "output_type": "execute_result"
    }
   ],
   "source": [
    "shootings.head()"
   ]
  },
  {
   "cell_type": "code",
   "execution_count": 334,
   "metadata": {},
   "outputs": [
    {
     "data": {
      "text/plain": [
       "array(['attack', 'other', 'undetermined', 'unknown'], dtype=object)"
      ]
     },
     "execution_count": 334,
     "metadata": {},
     "output_type": "execute_result"
    }
   ],
   "source": [
    "shootings['threat_level'].unique()"
   ]
  },
  {
   "cell_type": "code",
   "execution_count": 336,
   "metadata": {},
   "outputs": [
    {
     "data": {
      "text/plain": [
       "array(['shot', 'shot and Tasered', 'unknown'], dtype=object)"
      ]
     },
     "execution_count": 336,
     "metadata": {},
     "output_type": "execute_result"
    }
   ],
   "source": [
    "shootings['manner_of_death'].unique()"
   ]
  },
  {
   "cell_type": "code",
   "execution_count": 337,
   "metadata": {},
   "outputs": [],
   "source": [
    "shootings.to_csv('shootings.csv')"
   ]
  }
 ],
 "metadata": {
  "kernelspec": {
   "display_name": "Python 3",
   "language": "python",
   "name": "python3"
  },
  "language_info": {
   "codemirror_mode": {
    "name": "ipython",
    "version": 3
   },
   "file_extension": ".py",
   "mimetype": "text/x-python",
   "name": "python",
   "nbconvert_exporter": "python",
   "pygments_lexer": "ipython3",
   "version": "3.8.3"
  }
 },
 "nbformat": 4,
 "nbformat_minor": 4
}
